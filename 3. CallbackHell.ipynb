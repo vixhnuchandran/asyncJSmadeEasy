{
 "cells": [
  {
   "cell_type": "markdown",
   "id": "09c5c3d1-42b2-4083-910b-ead7cd0ae9b6",
   "metadata": {},
   "source": [
    "# Callback Hell\n",
    "Callback hell, also known as \"Pyramid of Doom\" or \"Callback spaghetti,\" is a term used in JavaScript development to describe a situation where you have multiple nested callbacks within your code. This occurs when asynchronous operations are dependent on each other or need to be executed sequentially. The result is deeply nested and hard-to-read code, making it challenging to manage and maintain."
   ]
  },
  {
   "cell_type": "code",
   "execution_count": null,
   "id": "995882d0-398f-4681-a449-f9bfd1c0fa06",
   "metadata": {},
   "outputs": [],
   "source": [
    "const getData = (urlToFetch, callback) => {\n",
    "    const request = new XMLHttpRequest();\n",
    "\n",
    "    request.addEventListener('readystatechange', () => {\n",
    "        if (request.readyState === 4 && request.status === 200) {\n",
    "            const data = JSON.parse(request.responseText);\n",
    "            callback(undefined, data);\n",
    "        }\n",
    "        else if (request.readyState === 4) {\n",
    "\n",
    "            callback('could not fetch the data.', undefined);\n",
    "        }\n",
    "\n",
    "    })\n",
    "    request.open('GET', urlToFetch)\n",
    "    request.send();\n",
    "}\n",
    "\n",
    "\n",
    "getData('https://jsonplaceholder.typicode.com/todos/1', (err, data) => {\n",
    "    console.log('Response Data:\\n', data);\n",
    "    getData('https://jsonplaceholder.typicode.com/todos/2', (err, data) => {\n",
    "        console.log('Response Data:\\n', data);\n",
    "        getData('https://jsonplaceholder.typicode.com/todos/3', (err, data) => {\n",
    "            console.log('Response Data:\\n', data);\n",
    "            getData('https://jsonplaceholder.typicode.com/todos/4', (err, data) => {\n",
    "                console.log('Response Data:\\n', data);\n",
    "                getData('https://jsonplaceholder.typicode.com/todos/5', (err, data) => {\n",
    "                    console.log('Response Data:\\n', data);\n",
    "                    getData('https://jsonplaceholder.typicode.com/todos/6', (err, data) => {\n",
    "                        console.log('Response Data:\\n', data);\n",
    "                    })\n",
    "                })\n",
    "            })\n",
    "        })\n",
    "    })\n",
    "\n",
    "})\n",
    "\n"
   ]
  },
  {
   "cell_type": "markdown",
   "id": "c4affc60-0aec-4ce7-9e87-6ed4c09e782d",
   "metadata": {},
   "source": [
    "In this pattern, we have multiple nested callbacks, each dependent on the result of the previous one. While this approach can work, it has several disadvantages:\n",
    "\n",
    "Disadvantages of Callback Hell (Pyramid of Doom):\n",
    "\n",
    "**Readability:** Code written in this style can be challenging to read and understand due to deep indentation. As the number of nested callbacks increases, the code becomes less readable.\n",
    "\n",
    "**Maintainability** Making changes or adding new functionality becomes increasingly difficult as the codebase grows. It's easy to introduce errors or break existing logic when modifying deeply nested code.\n",
    "\n",
    "**Error Handling:** Handling errors within deeply nested callbacks can become verbose and error-prone. Each callback must check for and handle errors separately, leading to duplication of error-handling code."
   ]
  }
 ],
 "metadata": {
  "kernelspec": {
   "display_name": "JavaScript (Node.js)",
   "language": "javascript",
   "name": "javascript"
  },
  "language_info": {
   "file_extension": ".js",
   "mimetype": "application/javascript",
   "name": "javascript",
   "version": "18.18.0"
  }
 },
 "nbformat": 4,
 "nbformat_minor": 5
}
